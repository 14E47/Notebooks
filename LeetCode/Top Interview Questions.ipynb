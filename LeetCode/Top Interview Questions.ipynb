{
 "cells": [
  {
   "cell_type": "markdown",
   "metadata": {},
   "source": [
    "# Top Interview Questions"
   ]
  },
  {
   "cell_type": "markdown",
   "metadata": {},
   "source": [
    "## 1. Array"
   ]
  },
  {
   "cell_type": "markdown",
   "metadata": {},
   "source": [
    "### Remove Duplicates from Sorted Array"
   ]
  },
  {
   "cell_type": "code",
   "execution_count": 1,
   "metadata": {
    "collapsed": true
   },
   "outputs": [
    {
     "ename": "NameError",
     "evalue": "name 'List' is not defined",
     "output_type": "error",
     "traceback": [
      "\u001b[0;31m---------------------------------------------------------------------------\u001b[0m",
      "\u001b[0;31mNameError\u001b[0m                                 Traceback (most recent call last)",
      "\u001b[0;32m<ipython-input-1-700353a9ff55>\u001b[0m in \u001b[0;36m<module>\u001b[0;34m\u001b[0m\n\u001b[0;32m----> 1\u001b[0;31m \u001b[0;32mclass\u001b[0m \u001b[0mSolution\u001b[0m\u001b[0;34m:\u001b[0m\u001b[0;34m\u001b[0m\u001b[0;34m\u001b[0m\u001b[0m\n\u001b[0m\u001b[1;32m      2\u001b[0m     \u001b[0;32mdef\u001b[0m \u001b[0mremoveDuplicates\u001b[0m\u001b[0;34m(\u001b[0m\u001b[0mself\u001b[0m\u001b[0;34m,\u001b[0m \u001b[0mnums\u001b[0m\u001b[0;34m:\u001b[0m \u001b[0mList\u001b[0m\u001b[0;34m[\u001b[0m\u001b[0mint\u001b[0m\u001b[0;34m]\u001b[0m\u001b[0;34m)\u001b[0m \u001b[0;34m->\u001b[0m \u001b[0mint\u001b[0m\u001b[0;34m:\u001b[0m\u001b[0;34m\u001b[0m\u001b[0;34m\u001b[0m\u001b[0m\n\u001b[1;32m      3\u001b[0m \u001b[0;34m\u001b[0m\u001b[0m\n\u001b[1;32m      4\u001b[0m         \u001b[0mn\u001b[0m \u001b[0;34m=\u001b[0m \u001b[0mlen\u001b[0m\u001b[0;34m(\u001b[0m\u001b[0mnums\u001b[0m\u001b[0;34m)\u001b[0m\u001b[0;34m\u001b[0m\u001b[0;34m\u001b[0m\u001b[0m\n\u001b[1;32m      5\u001b[0m         \u001b[0mwrite\u001b[0m \u001b[0;34m=\u001b[0m \u001b[0;36m1\u001b[0m\u001b[0;34m\u001b[0m\u001b[0;34m\u001b[0m\u001b[0m\n",
      "\u001b[0;32m<ipython-input-1-700353a9ff55>\u001b[0m in \u001b[0;36mSolution\u001b[0;34m()\u001b[0m\n\u001b[1;32m      1\u001b[0m \u001b[0;32mclass\u001b[0m \u001b[0mSolution\u001b[0m\u001b[0;34m:\u001b[0m\u001b[0;34m\u001b[0m\u001b[0;34m\u001b[0m\u001b[0m\n\u001b[0;32m----> 2\u001b[0;31m     \u001b[0;32mdef\u001b[0m \u001b[0mremoveDuplicates\u001b[0m\u001b[0;34m(\u001b[0m\u001b[0mself\u001b[0m\u001b[0;34m,\u001b[0m \u001b[0mnums\u001b[0m\u001b[0;34m:\u001b[0m \u001b[0mList\u001b[0m\u001b[0;34m[\u001b[0m\u001b[0mint\u001b[0m\u001b[0;34m]\u001b[0m\u001b[0;34m)\u001b[0m \u001b[0;34m->\u001b[0m \u001b[0mint\u001b[0m\u001b[0;34m:\u001b[0m\u001b[0;34m\u001b[0m\u001b[0;34m\u001b[0m\u001b[0m\n\u001b[0m\u001b[1;32m      3\u001b[0m \u001b[0;34m\u001b[0m\u001b[0m\n\u001b[1;32m      4\u001b[0m         \u001b[0mn\u001b[0m \u001b[0;34m=\u001b[0m \u001b[0mlen\u001b[0m\u001b[0;34m(\u001b[0m\u001b[0mnums\u001b[0m\u001b[0;34m)\u001b[0m\u001b[0;34m\u001b[0m\u001b[0;34m\u001b[0m\u001b[0m\n\u001b[1;32m      5\u001b[0m         \u001b[0mwrite\u001b[0m \u001b[0;34m=\u001b[0m \u001b[0;36m1\u001b[0m\u001b[0;34m\u001b[0m\u001b[0;34m\u001b[0m\u001b[0m\n",
      "\u001b[0;31mNameError\u001b[0m: name 'List' is not defined"
     ]
    }
   ],
   "source": [
    "class Solution:\n",
    "    def removeDuplicates(self, nums: List[int]) -> int:\n",
    "        \n",
    "        n = len(nums)\n",
    "        write = 1\n",
    "\n",
    "        for i in range(1, n):\n",
    "            if nums[i] != nums[i-1]:\n",
    "                nums[write] = nums[i]\n",
    "                write += 1\n",
    "\n",
    "        return len(nums[:write])\n",
    "            "
   ]
  },
  {
   "cell_type": "markdown",
   "metadata": {},
   "source": [
    "### Best Time to Buy and Sell Stock II"
   ]
  },
  {
   "cell_type": "code",
   "execution_count": 10,
   "metadata": {},
   "outputs": [
    {
     "data": {
      "text/plain": [
       "2"
      ]
     },
     "execution_count": 10,
     "metadata": {},
     "output_type": "execute_result"
    }
   ],
   "source": [
    "# Runtime: 56 ms / 89.28%\n",
    "# Memory Usage: 15.2 MB\n",
    "def maxProfit(self, prices: List[int]) -> int:\n",
    "\n",
    "    n = len(prices)\n",
    "    buy = 0\n",
    "    profit = 0\n",
    "\n",
    "    for i in range(1, n):\n",
    "        if prices[i] > prices[buy]:\n",
    "            profit += prices[i] - prices[buy]\n",
    "        buy = i\n",
    "\n",
    "    return profit\n",
    "                        \n",
    "prices = [7,1,5,3,6,4]\n",
    "prices = [1,2,3,4,5]\n",
    "prices = [7,6,4,3,1]\n",
    "prices = [3]\n",
    "prices = [3,3,5]\n",
    "\n",
    "maxProfit(prices)"
   ]
  },
  {
   "cell_type": "markdown",
   "metadata": {},
   "source": [
    "### Rotate Array"
   ]
  },
  {
   "cell_type": "code",
   "execution_count": 12,
   "metadata": {},
   "outputs": [
    {
     "data": {
      "text/plain": [
       "[2, 1]"
      ]
     },
     "execution_count": 12,
     "metadata": {},
     "output_type": "execute_result"
    }
   ],
   "source": [
    "# Runtime: 208 ms\n",
    "# Memory Usage: 25.6 MB\n",
    "def rotate(nums, k) -> None:\n",
    "    \"\"\"\n",
    "    Do not return anything, modify nums in-place instead.\n",
    "    \"\"\"\n",
    "    n = len(nums)\n",
    "\n",
    "    if k > n:\n",
    "        k = k % n\n",
    "\n",
    "    nums[:] = nums[n-k:] + nums[:n-k]\n",
    "        \n",
    "nums = [1,2]\n",
    "k = 5     \n",
    "\n",
    "rotate(nums, k)\n",
    "nums"
   ]
  },
  {
   "cell_type": "markdown",
   "metadata": {},
   "source": [
    "### Contains Duplicate"
   ]
  },
  {
   "cell_type": "code",
   "execution_count": null,
   "metadata": {},
   "outputs": [],
   "source": [
    "# Runtime: 108 ms / 96.88%\n",
    "# Memory Usage: 20.3 MB\n",
    "def containsDuplicate(self, nums: List[int]) -> bool:\n",
    "\n",
    "    n = len(nums)\n",
    "    m = len(set(nums))\n",
    "\n",
    "    if n == m:\n",
    "        return False\n",
    "    return True\n"
   ]
  },
  {
   "cell_type": "markdown",
   "metadata": {},
   "source": [
    "### Single Number"
   ]
  },
  {
   "cell_type": "code",
   "execution_count": null,
   "metadata": {},
   "outputs": [],
   "source": [
    "# Runtime: 128 ms / 82.03%\n",
    "# Memory Usage: 16.7 MB\n",
    "class Solution:\n",
    "    def singleNumber(self, nums: List[int]) -> int:\n",
    "        return sum(set(nums))*2 - sum(nums)\n",
    "        \n",
    "        \n",
    "# better solution using maths: sum & product"
   ]
  },
  {
   "cell_type": "markdown",
   "metadata": {},
   "source": [
    "### Intersection of Two Arrays II"
   ]
  },
  {
   "cell_type": "code",
   "execution_count": null,
   "metadata": {},
   "outputs": [],
   "source": [
    "# Runtime: 160 ms\n",
    "# Memory Usage: 14.2 MB\n",
    "class Solution:\n",
    "    def intersect(self, nums1: List[int], nums2: List[int]) -> List[int]:\n",
    "        \n",
    "        n, m = len(nums1), len(nums2)\n",
    "        nums1.sort()\n",
    "        nums2.sort()\n",
    "        \n",
    "        result = []\n",
    "        \n",
    "        if n > m:\n",
    "            for i in range(m):\n",
    "                for j in range(n):\n",
    "                    if nums2[i] == nums1[j]:\n",
    "                        result.append(nums2[i])\n",
    "                        nums1.pop(j)\n",
    "                        n = len(nums1)\n",
    "                        break\n",
    "        else:\n",
    "            for i in range(n):\n",
    "                for j in range(m):\n",
    "                    if nums1[i] == nums2[j]:\n",
    "                        result.append(nums1[i])\n",
    "                        nums2.pop(j)\n",
    "                        m = len(nums2)\n",
    "                        break\n",
    "        return result\n",
    "        \n",
    "# Runtime: 40 ms / 94.05%\n",
    "# Memory Usage: 14.5 MB\n",
    "def intersect(nums1, nums2) -> [int]:\n",
    "        \n",
    "        n, m = len(nums1), len(nums2)\n",
    "\n",
    "        d1 = {}\n",
    "        d2 = {}\n",
    "        result = []\n",
    "        \n",
    "        k1 = 0\n",
    "        k2 = 0\n",
    "        \n",
    "        for i in nums1:\n",
    "            if i not in d1:\n",
    "                d1[i] = 1\n",
    "                k1 += 1\n",
    "            else:\n",
    "                d1[i] += 1\n",
    "            \n",
    "        for j in nums2:\n",
    "            if j not in d2:\n",
    "                d2[j] = 1\n",
    "                k2 += 1\n",
    "            else:\n",
    "                d2[j] += 1\n",
    "            \n",
    "#         print('d1', d1, '\\n', 'd2', d2)\n",
    "            \n",
    "        if k1 <= k2:\n",
    "            for c in d1:\n",
    "                if c in d2:\n",
    "                    result += [c]*min(d1[c], d2[c])\n",
    "        else:\n",
    "            for c in d2:\n",
    "                if c in d1:\n",
    "                    result += [c]*min(d1[c], d2[c])\n",
    "                    \n",
    "        return result\n",
    "            \n",
    "\n",
    "nums1 = [1,2,2,1]\n",
    "nums2 = [2,2]\n",
    "\n",
    "# nums1 = [4,9,5]\n",
    "# nums2 = [9,4,9,8,4]\n",
    "\n",
    "nums1 = [5]\n",
    "nums2 = [7]\n",
    "\n",
    "intersect(nums1, nums2)"
   ]
  },
  {
   "cell_type": "markdown",
   "metadata": {},
   "source": [
    "### Plus One"
   ]
  },
  {
   "cell_type": "code",
   "execution_count": 37,
   "metadata": {},
   "outputs": [
    {
     "name": "stdout",
     "output_type": "stream",
     "text": [
      "[1, 9, 9]\n"
     ]
    }
   ],
   "source": [
    "# Runtime: 28 ms\n",
    "# Memory Usage: 14.3 MB\n",
    "def plusOne(digits) -> [int]:\n",
    "\n",
    "\n",
    "    power = 0\n",
    "    num = 0\n",
    "\n",
    "    while len(digits) != 0:\n",
    "        num += (10**power) * digits.pop()\n",
    "        power += 1\n",
    "\n",
    "    num += 1\n",
    "\n",
    "    while num != 0:\n",
    "        digits.append(num%10)\n",
    "        num //= 10\n",
    "\n",
    "    return digits[::-1]\n",
    "\n",
    "# Runtime: 32 ms\n",
    "# Memory Usage: 14.4 MB\n",
    "def plusOne(digits) -> [int]:\n",
    "\n",
    "    if digits[-1] != 9:\n",
    "        digits[-1] += 1 \n",
    "        return digits\n",
    "\n",
    "    n = len(digits)\n",
    "\n",
    "    for i in range(n):\n",
    "        if digits[-i-1] == 9:\n",
    "            digits[-i-1] = 0\n",
    "            continue\n",
    "        digits[-i-1] += 1\n",
    "        return digits\n",
    "\n",
    "    if digits[0] != 0:\n",
    "        digits[0] += 1\n",
    "        return digits\n",
    "    return [1] + digits\n",
    "\n",
    "digits = [1,9,8]\n",
    "print(plusOne(digits))"
   ]
  },
  {
   "cell_type": "markdown",
   "metadata": {},
   "source": [
    "### Two Sum"
   ]
  },
  {
   "cell_type": "code",
   "execution_count": 57,
   "metadata": {
    "collapsed": true
   },
   "outputs": [
    {
     "ename": "NameError",
     "evalue": "name 'List' is not defined",
     "output_type": "error",
     "traceback": [
      "\u001b[0;31m---------------------------------------------------------------------------\u001b[0m",
      "\u001b[0;31mNameError\u001b[0m                                 Traceback (most recent call last)",
      "\u001b[0;32m<ipython-input-57-a11c93cb4416>\u001b[0m in \u001b[0;36m<module>\u001b[0;34m\u001b[0m\n\u001b[1;32m     15\u001b[0m \u001b[0;34m\u001b[0m\u001b[0m\n\u001b[1;32m     16\u001b[0m \u001b[0;31m# Best Solution\u001b[0m\u001b[0;34m\u001b[0m\u001b[0;34m\u001b[0m\u001b[0;34m\u001b[0m\u001b[0m\n\u001b[0;32m---> 17\u001b[0;31m \u001b[0;32mclass\u001b[0m \u001b[0mSolution\u001b[0m\u001b[0;34m:\u001b[0m\u001b[0;34m\u001b[0m\u001b[0;34m\u001b[0m\u001b[0m\n\u001b[0m\u001b[1;32m     18\u001b[0m     \u001b[0;32mdef\u001b[0m \u001b[0mtwoSum\u001b[0m\u001b[0;34m(\u001b[0m\u001b[0mself\u001b[0m\u001b[0;34m,\u001b[0m \u001b[0mnums\u001b[0m\u001b[0;34m:\u001b[0m \u001b[0mList\u001b[0m\u001b[0;34m[\u001b[0m\u001b[0mint\u001b[0m\u001b[0;34m]\u001b[0m\u001b[0;34m,\u001b[0m \u001b[0mtarget\u001b[0m\u001b[0;34m:\u001b[0m \u001b[0mint\u001b[0m\u001b[0;34m)\u001b[0m \u001b[0;34m->\u001b[0m \u001b[0mList\u001b[0m\u001b[0;34m[\u001b[0m\u001b[0mint\u001b[0m\u001b[0;34m]\u001b[0m\u001b[0;34m:\u001b[0m\u001b[0;34m\u001b[0m\u001b[0;34m\u001b[0m\u001b[0m\n\u001b[1;32m     19\u001b[0m \u001b[0;34m\u001b[0m\u001b[0m\n",
      "\u001b[0;32m<ipython-input-57-a11c93cb4416>\u001b[0m in \u001b[0;36mSolution\u001b[0;34m()\u001b[0m\n\u001b[1;32m     16\u001b[0m \u001b[0;31m# Best Solution\u001b[0m\u001b[0;34m\u001b[0m\u001b[0;34m\u001b[0m\u001b[0;34m\u001b[0m\u001b[0m\n\u001b[1;32m     17\u001b[0m \u001b[0;32mclass\u001b[0m \u001b[0mSolution\u001b[0m\u001b[0;34m:\u001b[0m\u001b[0;34m\u001b[0m\u001b[0;34m\u001b[0m\u001b[0m\n\u001b[0;32m---> 18\u001b[0;31m     \u001b[0;32mdef\u001b[0m \u001b[0mtwoSum\u001b[0m\u001b[0;34m(\u001b[0m\u001b[0mself\u001b[0m\u001b[0;34m,\u001b[0m \u001b[0mnums\u001b[0m\u001b[0;34m:\u001b[0m \u001b[0mList\u001b[0m\u001b[0;34m[\u001b[0m\u001b[0mint\u001b[0m\u001b[0;34m]\u001b[0m\u001b[0;34m,\u001b[0m \u001b[0mtarget\u001b[0m\u001b[0;34m:\u001b[0m \u001b[0mint\u001b[0m\u001b[0;34m)\u001b[0m \u001b[0;34m->\u001b[0m \u001b[0mList\u001b[0m\u001b[0;34m[\u001b[0m\u001b[0mint\u001b[0m\u001b[0;34m]\u001b[0m\u001b[0;34m:\u001b[0m\u001b[0;34m\u001b[0m\u001b[0;34m\u001b[0m\u001b[0m\n\u001b[0m\u001b[1;32m     19\u001b[0m \u001b[0;34m\u001b[0m\u001b[0m\n\u001b[1;32m     20\u001b[0m \u001b[0;34m\u001b[0m\u001b[0m\n",
      "\u001b[0;31mNameError\u001b[0m: name 'List' is not defined"
     ]
    }
   ],
   "source": [
    "# Runtime: 48 ms\n",
    "# Memory Usage: 14.2 MB\n",
    "def twoSum(nums, target) -> [int]:\n",
    "\n",
    "    n = len(nums)\n",
    "\n",
    "    if n == 2:\n",
    "        return [0,1]\n",
    "\n",
    "    for i in range(n):\n",
    "        for j in range(i+1, n):\n",
    "            if target == nums[i] + nums [j]:\n",
    "                return [i,j]\n",
    "\n",
    "# Best Solution\n",
    "class Solution:\n",
    "    def twoSum(self, nums: List[int], target: int) -> List[int]:\n",
    "        \n",
    "        \n",
    "        seen = {}\n",
    "        \n",
    "        for index, n in enumerate(nums):\n",
    "            if n in seen:\n",
    "                return [seen[n], index,]\n",
    "            else:\n",
    "                seen[target-n] = index\n",
    "                \n",
    "nums = [2,7,11,15]\n",
    "target = 9\n",
    "\n",
    "nums = [3,2,4] \n",
    "target = 6\n",
    "\n",
    "twoSum(nums, target)\n"
   ]
  },
  {
   "cell_type": "markdown",
   "metadata": {},
   "source": [
    "### Valid Sudoku"
   ]
  },
  {
   "cell_type": "code",
   "execution_count": 42,
   "metadata": {},
   "outputs": [
    {
     "data": {
      "text/plain": [
       "True"
      ]
     },
     "execution_count": 42,
     "metadata": {},
     "output_type": "execute_result"
    }
   ],
   "source": [
    "# Runtime: 100 ms\n",
    "# Memory Usage: 14.2 MB\n",
    "def isValidSudoku(board) -> bool:\n",
    "\n",
    "    r_checker = {}\n",
    "    c_checker = {}\n",
    "    b_checker = {}\n",
    "    \n",
    "    box = []\n",
    "    \n",
    "    for i in range(0,9,3):\n",
    "        for j in range(0,9,3):\n",
    "            box.append(board[i][j:j+3] + board[i+1][j:j+3] + board[i+2][j:j+3])\n",
    "            \n",
    "    for i in range(9):\n",
    "        for j in range(9):\n",
    "\n",
    "            row_element = board[i][j]\n",
    "            column_element = board[j][i]\n",
    "            box_element = box[i][j]\n",
    "            \n",
    "            if row_element in r_checker:\n",
    "                print(f\"{row_element} is dup in row {i}\")\n",
    "                return False\n",
    "            \n",
    "            if column_element in c_checker:\n",
    "                print(f\"{column_element} is dup in column {i}\")\n",
    "                return False\n",
    "\n",
    "            if box_element in b_checker:\n",
    "                print(f\"{box_element} is dup in box {i}\")\n",
    "                return False\n",
    "\n",
    "            if row_element != '.':\n",
    "                r_checker[row_element] = 1\n",
    "                \n",
    "            if column_element != '.':\n",
    "                c_checker[column_element] = 1\n",
    "                \n",
    "            if box_element != '.':\n",
    "                b_checker[box_element] = 1\n",
    "        \n",
    "        r_checker = {}\n",
    "        c_checker = {}\n",
    "        b_checker = {}\n",
    "                   \n",
    "    return True\n",
    "\n",
    "                \n",
    "                \n",
    "    \n",
    "    \n",
    "    \n",
    "        \n",
    "board = [\n",
    "    [\"8\",\"3\",\".\",\".\",\"7\",\".\",\".\",\".\",\".\"],\n",
    "    [\"6\",\".\",\".\",\"1\",\"9\",\"5\",\".\",\".\",\".\"],\n",
    "    [\".\",\"9\",\"8\",\".\",\".\",\".\",\".\",\"6\",\".\"],\n",
    "    [\"8\",\".\",\".\",\".\",\"6\",\".\",\".\",\".\",\"3\"],\n",
    "    [\"4\",\".\",\".\",\"8\",\".\",\"3\",\".\",\".\",\"1\"],\n",
    "    [\"7\",\".\",\".\",\".\",\"2\",\".\",\".\",\".\",\"6\"],\n",
    "    [\".\",\"6\",\".\",\".\",\".\",\".\",\"2\",\"8\",\".\"],\n",
    "    [\".\",\".\",\".\",\"4\",\"1\",\"9\",\".\",\".\",\"5\"],\n",
    "    [\".\",\".\",\".\",\".\",\"8\",\".\",\".\",\"7\",\"9\"]\n",
    "] \n",
    "\n",
    "board = [\n",
    "    [\".\",\"3\",\"6\",\".\",\"7\",\".\",\".\",\".\",\".\"],\n",
    "    [\"6\",\".\",\".\",\"1\",\"9\",\"5\",\".\",\".\",\".\"],\n",
    "    [\".\",\"9\",\"8\",\".\",\".\",\".\",\".\",\"6\",\".\"],\n",
    "    [\"8\",\".\",\".\",\".\",\"6\",\".\",\".\",\".\",\"3\"],\n",
    "    [\"4\",\".\",\".\",\"8\",\".\",\"3\",\".\",\".\",\"1\"],\n",
    "    [\"7\",\".\",\".\",\".\",\"2\",\".\",\".\",\".\",\"6\"],\n",
    "    [\".\",\"6\",\".\",\".\",\".\",\".\",\"2\",\"8\",\".\"],\n",
    "    [\".\",\".\",\".\",\"4\",\"1\",\"9\",\".\",\".\",\"5\"],\n",
    "    [\".\",\".\",\".\",\".\",\"8\",\".\",\".\",\"7\",\"9\"]\n",
    "] \n",
    "\n",
    "board = [\n",
    "    [\".\",\"3\",\".\",\".\",\"7\",\".\",\".\",\".\",\".\"],\n",
    "    [\"6\",\".\",\".\",\"1\",\"9\",\"5\",\".\",\".\",\".\"],\n",
    "    [\".\",\"9\",\"8\",\".\",\".\",\".\",\".\",\"6\",\".\"],\n",
    "    [\"8\",\".\",\".\",\".\",\"6\",\".\",\".\",\".\",\"3\"],\n",
    "    [\"4\",\".\",\".\",\"8\",\".\",\"3\",\".\",\".\",\"1\"],\n",
    "    [\"7\",\".\",\".\",\".\",\"2\",\".\",\".\",\".\",\"6\"],\n",
    "    [\".\",\"6\",\".\",\".\",\".\",\".\",\"2\",\"8\",\".\"],\n",
    "    [\".\",\".\",\".\",\"4\",\"1\",\"9\",\".\",\".\",\"5\"],\n",
    "    [\".\",\".\",\".\",\".\",\"8\",\".\",\".\",\"7\",\"9\"]\n",
    "] \n",
    "\n",
    "\n",
    "isValidSudoku(board)\n",
    "\n",
    "# Best solution\n",
    "\"\"\"\n",
    "class Solution:\n",
    "    def isValidSudoku(self, board: List[List[str]]) -> bool:\n",
    "        boardMap = collections.defaultdict(list)\n",
    "        for x in range(9):\n",
    "            for y in range(9):\n",
    "                char = board[x][y]\n",
    "                if char != '.': \n",
    "                    if char in boardMap:\n",
    "                        for pos in boardMap[char]:\n",
    "                            if (pos[0]== x) or (pos[1] == y) or (pos[0]//3 == x//3 and pos[1]//3 == y//3):\n",
    "                                return False\n",
    "                    boardMap[char].append((x,y))\n",
    "   \n",
    "        return True\n",
    "\n",
    "\"\"\"\n"
   ]
  },
  {
   "cell_type": "markdown",
   "metadata": {},
   "source": [
    "### Rotate Image"
   ]
  },
  {
   "cell_type": "code",
   "execution_count": 54,
   "metadata": {},
   "outputs": [
    {
     "name": "stdout",
     "output_type": "stream",
     "text": [
      "ij 0 0\n",
      "1 \n",
      "\n",
      "3 \n",
      "\n",
      "9 \n",
      "\n",
      "7 \n",
      "\n",
      "ij 0 1\n",
      "2 \n",
      "\n",
      "6 \n",
      "\n",
      "8 \n",
      "\n",
      "4 \n",
      "\n",
      "[[7, 4, 1], [8, 5, 2], [9, 6, 3]]\n"
     ]
    }
   ],
   "source": [
    "# Runtime: 36 ms\n",
    "# Memory Usage: 14.3 MB\n",
    "def rotate(matrix) -> None:\n",
    "    \"\"\"\n",
    "    Do not return anything, modify matrix in-place instead.\n",
    "    \"\"\"\n",
    "    n = len(matrix)\n",
    "    \n",
    "    for i in range(n):\n",
    "        for j in range(i, n):\n",
    "            if i != j:\n",
    "                temp = matrix[i][j]\n",
    "                matrix[i][j] = matrix[j][i]\n",
    "                matrix[j][i] = temp\n",
    "    \n",
    "    for k in range(n):\n",
    "        matrix[k] = matrix[k][::-1]\n",
    "    \n",
    "    \n",
    "# Best Solution\n",
    "def rotate(matrix) -> None:\n",
    "    \"\"\"\n",
    "    Do not return anything, modify matrix in-place instead.\n",
    "    \"\"\"\n",
    "    n = len(matrix)\n",
    "\n",
    "    for i in range(n // 2):\n",
    "        for j in range(i, n - 1 - i):\n",
    "            print(\"ij\", i, j)\n",
    "            \n",
    "            \n",
    "            a = matrix[i][j]\n",
    "            b = matrix[j][n - 1 - i]\n",
    "            c = matrix[n - 1 - i][n - 1 - j]\n",
    "            d = matrix[n - 1 - j][i]\n",
    "            \n",
    "            print(a, '\\n')\n",
    "            print(b, '\\n')\n",
    "            print(c, '\\n')\n",
    "            print(d, '\\n')\n",
    "\n",
    "            matrix[i][j] = d\n",
    "            matrix[j][n - 1 - i] = a\n",
    "            matrix[n - 1 - i][n - 1 - j] = b\n",
    "            matrix[n - 1 - j][i] = c\n",
    "    \n",
    "    \n",
    "    \n",
    "matrix = [[1,2,3],[4,5,6],[7,8,9]]\n",
    "\n",
    "rotate(matrix)\n",
    "print(matrix)\n",
    "\n"
   ]
  },
  {
   "cell_type": "markdown",
   "metadata": {},
   "source": [
    "## 2. Strings"
   ]
  },
  {
   "cell_type": "markdown",
   "metadata": {},
   "source": [
    "### Reverse String"
   ]
  },
  {
   "cell_type": "code",
   "execution_count": 1,
   "metadata": {
    "collapsed": true
   },
   "outputs": [
    {
     "name": "stdout",
     "output_type": "stream",
     "text": [
      "h o\n",
      "o h\n",
      "e l\n",
      "l e\n"
     ]
    }
   ],
   "source": [
    "def reverseString(s) -> None:\n",
    "    \"\"\"\n",
    "    Do not return anything, modify s in-place instead.\n",
    "    \"\"\"\n",
    "#     s[:] = s[::-1]\n",
    "    for i in range(len(s)//2):\n",
    "        print(s[i],s[len(s)-i-1])\n",
    "        s[i],s[len(s)-i-1]=s[len(s)-i-1],s[i]\n",
    "        print(s[i],s[len(s)-i-1])\n",
    "    \n",
    "    \n",
    "s = ['h', 'e', 'l', 'l', 'o']\n",
    "reverseString(s)\n",
    "# print(s)"
   ]
  },
  {
   "cell_type": "markdown",
   "metadata": {},
   "source": [
    "### Reverse Integer"
   ]
  },
  {
   "cell_type": "code",
   "execution_count": null,
   "metadata": {},
   "outputs": [],
   "source": [
    "# Runtime: 32 ms\n",
    "# Memory Usage: 14.2 MB\n",
    "class Solution:\n",
    "    def reverse(self, x: int) -> int:\n",
    "        \n",
    "        reversed = int(str(abs(x))[::-1])\n",
    "        \n",
    "        if reversed > (pow(2, 31)-1) or reversed < - (pow(2, 31)-1):\n",
    "            return 0\n",
    "        \n",
    "        if x < 0:\n",
    "            return -reversed\n",
    "\n",
    "        return reversed\n",
    "        \n",
    "# Best Solution        \n",
    "class Solution:\n",
    "    def reverse(self, x: int) -> int:\n",
    "        if x>0:\n",
    "            s = str(x)[::-1]\n",
    "            \n",
    "        else:\n",
    "            x = -1*x\n",
    "            s = '-'+str(x)[::-1]\n",
    "        \n",
    "        a = int(s)\n",
    "        minn = -2**31\n",
    "        maxx = 2**31 - 1\n",
    "        if a in range(minn,maxx):\n",
    "            return a\n",
    "        else:\n",
    "            return 0"
   ]
  },
  {
   "cell_type": "markdown",
   "metadata": {},
   "source": [
    "### First Unique Character in a String"
   ]
  },
  {
   "cell_type": "code",
   "execution_count": 17,
   "metadata": {},
   "outputs": [
    {
     "name": "stdout",
     "output_type": "stream",
     "text": [
      "{'a', 's', 'i', 'u', 'w', 'e', 'q'}\n"
     ]
    }
   ],
   "source": [
    "\n",
    "# Runtime: 136 ms\n",
    "# Memory Usage: 14.3 MB\n",
    "def firstUniqChar(s) -> int:\n",
    "\n",
    "    d = {}\n",
    "    non_repeating = []\n",
    "\n",
    "    for i in range(len(s)):\n",
    "        if s[i] not in d:\n",
    "            d[s[i]] = 1\n",
    "            non_repeating.append((s[i],i))\n",
    "            continue\n",
    "        d[s[i]] += 1\n",
    "\n",
    "    for char in non_repeating:\n",
    "        if d[char[0]] == 1:\n",
    "            return char[1]\n",
    "    return -1 \n",
    "\n",
    "def firstUniqChar(s) -> int:\n",
    "\n",
    "    unique = []\n",
    "\n",
    "    for i in range(len(s)):\n",
    "        if s[i] no:\n",
    "            d[s[i]] = 1\n",
    "            non_repeating.append((s[i],i))\n",
    "            continue\n",
    "        d[s[i]] += 1\n",
    "\n",
    "    for char in non_repeating:\n",
    "        if d[char[0]] == 1:\n",
    "            return char[1]\n",
    "    return -1 \n",
    "\n",
    "\n",
    "\n",
    "s = \"loveleetcode\"\n",
    "s = \"wasique\"\n",
    "\n",
    "# firstUniqChar(s)\n",
    "print(set(s))"
   ]
  },
  {
   "cell_type": "markdown",
   "metadata": {},
   "source": [
    "### Valid Anagram"
   ]
  },
  {
   "cell_type": "code",
   "execution_count": 23,
   "metadata": {},
   "outputs": [
    {
     "name": "stdout",
     "output_type": "stream",
     "text": [
      "{'a': 3, 'n': 1, 'g': 1, 'r': 1, 'm': 1}\n",
      "{'n': 1, 'a': 3, 'g': 1, 'r': 1, 'm': 1}\n"
     ]
    },
    {
     "data": {
      "text/plain": [
       "True"
      ]
     },
     "execution_count": 23,
     "metadata": {},
     "output_type": "execute_result"
    }
   ],
   "source": [
    "# Runtime: 48 ms\n",
    "# Memory Usage: 15.1 MB\n",
    "def isAnagram(s: str, t: str) -> bool:\n",
    "\n",
    "    s = sorted(s)\n",
    "    t = sorted(t)\n",
    "\n",
    "    for i in range(len(s)):\n",
    "        if s[i] != t[i]:\n",
    "            return False\n",
    "    return True\n",
    "        \n",
    "# Runtime: 68 ms\n",
    "# Memory Usage: 14.5 MB\n",
    "def isAnagram(s: str, t: str) -> bool:\n",
    "    \n",
    "    a, b = len(s), len(t)\n",
    "    if a != b:\n",
    "        return False\n",
    "    \n",
    "    lookup = {}\n",
    "    for i in range(a):\n",
    "        if s[i] not in lookup:\n",
    "            lookup[s[i]] = 1\n",
    "        else:\n",
    "            lookup[s[i]] += 1\n",
    "            if lookup[s[i]] == 0:\n",
    "                del lookup[s[i]]\n",
    "            \n",
    "        if t[i] not in lookup:\n",
    "            lookup[t[i]] = -1\n",
    "        else:\n",
    "            lookup[t[i]] -= 1\n",
    "            if lookup[t[i]] == 0:\n",
    "                del lookup[t[i]]\n",
    "    print(lookup)\n",
    "    if len(lookup) == 0:\n",
    "        return True\n",
    "    return False\n",
    "\n",
    "# Runtime: 56 ms\n",
    "# Memory Usage: 14.4 MB\n",
    "def isAnagram(s: str, t: str) -> bool:\n",
    "\n",
    "    a, b = len(s), len(t)\n",
    "    if a != b:\n",
    "        return False\n",
    "\n",
    "    lookup = {}\n",
    "    for i in range(a):\n",
    "        if s[i] not in lookup:\n",
    "            lookup[s[i]] = 1\n",
    "        else:\n",
    "            lookup[s[i]] += 1\n",
    "\n",
    "        if t[i] not in lookup:\n",
    "            lookup[t[i]] = -1\n",
    "        else:\n",
    "            lookup[t[i]] -= 1\n",
    "    for i in lookup:\n",
    "        if lookup[i] != 0:\n",
    "            return False\n",
    "    return True\n",
    "\n",
    "from collections import Counter\n",
    "\n",
    "# Best Solution\n",
    "def isAnagram(s: str, t: str) -> bool:\n",
    "\n",
    "    if len(s) != len(t):\n",
    "        return False\n",
    "    sCount = dict(Counter(s))\n",
    "    tCount = dict(Counter(t))\n",
    "    print(sCount)\n",
    "    print(tCount)\n",
    "    if sCount != tCount:\n",
    "        return False\n",
    "    return True\n",
    "\n",
    "    \n",
    "    \n",
    "    \n",
    "s = \"anagram\"\n",
    "t = \"nagaram\"\n",
    "\n",
    "isAnagram(s, t)\n"
   ]
  },
  {
   "cell_type": "markdown",
   "metadata": {},
   "source": [
    "### Valid Palindrome"
   ]
  },
  {
   "cell_type": "code",
   "execution_count": 32,
   "metadata": {},
   "outputs": [
    {
     "data": {
      "text/plain": [
       "True"
      ]
     },
     "execution_count": 32,
     "metadata": {},
     "output_type": "execute_result"
    }
   ],
   "source": [
    "# Runtime: 44 ms\n",
    "# Memory Usage: 19.7 MB\n",
    "class Solution:\n",
    "    def isPalindrome(self, s: str) -> bool:\n",
    "        \n",
    "        s = \"\".join([i.lower() for i in s if i.isalnum()])\n",
    "        \n",
    "        n = len(s)\n",
    "        for i in range(n//2):\n",
    "            if s[i] != s[n-i-1]:\n",
    "                return False\n",
    "        return True\n",
    "    \n",
    "    \n",
    "    \n",
    "        \n",
    "s = \"A man, a plan, a canal: Panama\"\n",
    "s = 'abba'\n",
    "\n",
    "o = Solution().isPalindrome(s)\n",
    "o"
   ]
  },
  {
   "cell_type": "code",
   "execution_count": null,
   "metadata": {},
   "outputs": [],
   "source": []
  }
 ],
 "metadata": {
  "kernelspec": {
   "display_name": "Python 3",
   "language": "python",
   "name": "python3"
  },
  "language_info": {
   "codemirror_mode": {
    "name": "ipython",
    "version": 3
   },
   "file_extension": ".py",
   "mimetype": "text/x-python",
   "name": "python",
   "nbconvert_exporter": "python",
   "pygments_lexer": "ipython3",
   "version": "3.6.9"
  }
 },
 "nbformat": 4,
 "nbformat_minor": 2
}
