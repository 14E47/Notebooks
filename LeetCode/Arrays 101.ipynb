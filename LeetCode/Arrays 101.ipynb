{
 "cells": [
  {
   "cell_type": "markdown",
   "metadata": {},
   "source": [
    "# Max Consecutive Ones"
   ]
  },
  {
   "cell_type": "code",
   "execution_count": 10,
   "metadata": {
    "collapsed": true
   },
   "outputs": [
    {
     "ename": "NameError",
     "evalue": "name 'List' is not defined",
     "output_type": "error",
     "traceback": [
      "\u001b[0;31m---------------------------------------------------------------------------\u001b[0m",
      "\u001b[0;31mNameError\u001b[0m                                 Traceback (most recent call last)",
      "\u001b[0;32m<ipython-input-10-1e7b23e7e13b>\u001b[0m in \u001b[0;36m<module>\u001b[0;34m\u001b[0m\n\u001b[1;32m      7\u001b[0m \u001b[0;34m\u001b[0m\u001b[0m\n\u001b[1;32m      8\u001b[0m \u001b[0;34m\u001b[0m\u001b[0m\n\u001b[0;32m----> 9\u001b[0;31m \u001b[0;32mclass\u001b[0m \u001b[0mSolution\u001b[0m\u001b[0;34m:\u001b[0m\u001b[0;34m\u001b[0m\u001b[0;34m\u001b[0m\u001b[0m\n\u001b[0m\u001b[1;32m     10\u001b[0m     \u001b[0;32mdef\u001b[0m \u001b[0mfindMaxConsecutiveOnes\u001b[0m\u001b[0;34m(\u001b[0m\u001b[0mself\u001b[0m\u001b[0;34m,\u001b[0m \u001b[0mnums\u001b[0m\u001b[0;34m:\u001b[0m \u001b[0mList\u001b[0m\u001b[0;34m[\u001b[0m\u001b[0mint\u001b[0m\u001b[0;34m]\u001b[0m\u001b[0;34m)\u001b[0m \u001b[0;34m->\u001b[0m \u001b[0mint\u001b[0m\u001b[0;34m:\u001b[0m\u001b[0;34m\u001b[0m\u001b[0;34m\u001b[0m\u001b[0m\n\u001b[1;32m     11\u001b[0m         \u001b[0mconsecutive_ones\u001b[0m \u001b[0;34m=\u001b[0m \u001b[0;36m0\u001b[0m\u001b[0;34m\u001b[0m\u001b[0;34m\u001b[0m\u001b[0m\n",
      "\u001b[0;32m<ipython-input-10-1e7b23e7e13b>\u001b[0m in \u001b[0;36mSolution\u001b[0;34m()\u001b[0m\n\u001b[1;32m      8\u001b[0m \u001b[0;34m\u001b[0m\u001b[0m\n\u001b[1;32m      9\u001b[0m \u001b[0;32mclass\u001b[0m \u001b[0mSolution\u001b[0m\u001b[0;34m:\u001b[0m\u001b[0;34m\u001b[0m\u001b[0;34m\u001b[0m\u001b[0m\n\u001b[0;32m---> 10\u001b[0;31m     \u001b[0;32mdef\u001b[0m \u001b[0mfindMaxConsecutiveOnes\u001b[0m\u001b[0;34m(\u001b[0m\u001b[0mself\u001b[0m\u001b[0;34m,\u001b[0m \u001b[0mnums\u001b[0m\u001b[0;34m:\u001b[0m \u001b[0mList\u001b[0m\u001b[0;34m[\u001b[0m\u001b[0mint\u001b[0m\u001b[0;34m]\u001b[0m\u001b[0;34m)\u001b[0m \u001b[0;34m->\u001b[0m \u001b[0mint\u001b[0m\u001b[0;34m:\u001b[0m\u001b[0;34m\u001b[0m\u001b[0;34m\u001b[0m\u001b[0m\n\u001b[0m\u001b[1;32m     11\u001b[0m         \u001b[0mconsecutive_ones\u001b[0m \u001b[0;34m=\u001b[0m \u001b[0;36m0\u001b[0m\u001b[0;34m\u001b[0m\u001b[0;34m\u001b[0m\u001b[0m\n\u001b[1;32m     12\u001b[0m         \u001b[0mcounter\u001b[0m \u001b[0;34m=\u001b[0m \u001b[0;36m0\u001b[0m\u001b[0;34m\u001b[0m\u001b[0;34m\u001b[0m\u001b[0m\n",
      "\u001b[0;31mNameError\u001b[0m: name 'List' is not defined"
     ]
    }
   ],
   "source": [
    "\"\"\"\n",
    "Input: nums = [1,1,0,1,1,1]\n",
    "Output: 3\n",
    "Explanation: The first two digits or the last three digits are consecutive 1s. \n",
    "The maximum number of consecutive 1s is 3.\n",
    "\"\"\"\n",
    "\n",
    "\n",
    "class Solution:\n",
    "    def findMaxConsecutiveOnes(self, nums: List[int]) -> int:\n",
    "        consecutive_ones = 0\n",
    "        counter = 0\n",
    "        \n",
    "        for num in nums:\n",
    "            if num == 1:\n",
    "                counter += 1\n",
    "            else:\n",
    "                counter = 0\n",
    "\n",
    "            if counter > consecutive_ones:\n",
    "                consecutive_ones = counter\n",
    "\n",
    "        return consecutive_ones\n",
    "                \n",
    "        "
   ]
  },
  {
   "cell_type": "markdown",
   "metadata": {},
   "source": [
    "# Find Numbers with Even Number of Digits"
   ]
  },
  {
   "cell_type": "code",
   "execution_count": 14,
   "metadata": {
    "collapsed": true
   },
   "outputs": [
    {
     "ename": "NameError",
     "evalue": "name 'List' is not defined",
     "output_type": "error",
     "traceback": [
      "\u001b[0;31m---------------------------------------------------------------------------\u001b[0m",
      "\u001b[0;31mNameError\u001b[0m                                 Traceback (most recent call last)",
      "\u001b[0;32m<ipython-input-14-dbbe324c34cf>\u001b[0m in \u001b[0;36m<module>\u001b[0;34m\u001b[0m\n\u001b[1;32m     13\u001b[0m \u001b[0;34m\u001b[0m\u001b[0m\n\u001b[1;32m     14\u001b[0m \u001b[0;34m\u001b[0m\u001b[0m\n\u001b[0;32m---> 15\u001b[0;31m \u001b[0;32mclass\u001b[0m \u001b[0mSolution\u001b[0m\u001b[0;34m:\u001b[0m\u001b[0;34m\u001b[0m\u001b[0;34m\u001b[0m\u001b[0m\n\u001b[0m\u001b[1;32m     16\u001b[0m     \u001b[0;32mdef\u001b[0m \u001b[0mfindNumbers\u001b[0m\u001b[0;34m(\u001b[0m\u001b[0mself\u001b[0m\u001b[0;34m,\u001b[0m \u001b[0mnums\u001b[0m\u001b[0;34m:\u001b[0m \u001b[0mList\u001b[0m\u001b[0;34m[\u001b[0m\u001b[0mint\u001b[0m\u001b[0;34m]\u001b[0m\u001b[0;34m)\u001b[0m \u001b[0;34m->\u001b[0m \u001b[0mint\u001b[0m\u001b[0;34m:\u001b[0m\u001b[0;34m\u001b[0m\u001b[0;34m\u001b[0m\u001b[0m\n\u001b[1;32m     17\u001b[0m         \u001b[0mcount\u001b[0m \u001b[0;34m=\u001b[0m \u001b[0;36m0\u001b[0m\u001b[0;34m\u001b[0m\u001b[0;34m\u001b[0m\u001b[0m\n",
      "\u001b[0;32m<ipython-input-14-dbbe324c34cf>\u001b[0m in \u001b[0;36mSolution\u001b[0;34m()\u001b[0m\n\u001b[1;32m     14\u001b[0m \u001b[0;34m\u001b[0m\u001b[0m\n\u001b[1;32m     15\u001b[0m \u001b[0;32mclass\u001b[0m \u001b[0mSolution\u001b[0m\u001b[0;34m:\u001b[0m\u001b[0;34m\u001b[0m\u001b[0;34m\u001b[0m\u001b[0m\n\u001b[0;32m---> 16\u001b[0;31m     \u001b[0;32mdef\u001b[0m \u001b[0mfindNumbers\u001b[0m\u001b[0;34m(\u001b[0m\u001b[0mself\u001b[0m\u001b[0;34m,\u001b[0m \u001b[0mnums\u001b[0m\u001b[0;34m:\u001b[0m \u001b[0mList\u001b[0m\u001b[0;34m[\u001b[0m\u001b[0mint\u001b[0m\u001b[0;34m]\u001b[0m\u001b[0;34m)\u001b[0m \u001b[0;34m->\u001b[0m \u001b[0mint\u001b[0m\u001b[0;34m:\u001b[0m\u001b[0;34m\u001b[0m\u001b[0;34m\u001b[0m\u001b[0m\n\u001b[0m\u001b[1;32m     17\u001b[0m         \u001b[0mcount\u001b[0m \u001b[0;34m=\u001b[0m \u001b[0;36m0\u001b[0m\u001b[0;34m\u001b[0m\u001b[0;34m\u001b[0m\u001b[0m\n\u001b[1;32m     18\u001b[0m         \u001b[0;32mfor\u001b[0m \u001b[0mnum\u001b[0m \u001b[0;32min\u001b[0m \u001b[0mnums\u001b[0m\u001b[0;34m:\u001b[0m\u001b[0;34m\u001b[0m\u001b[0;34m\u001b[0m\u001b[0m\n",
      "\u001b[0;31mNameError\u001b[0m: name 'List' is not defined"
     ]
    }
   ],
   "source": [
    "\"\"\"\n",
    "Input: nums = [12,345,2,6,7896]\n",
    "Output: 2\n",
    "Explanation: \n",
    "12 contains 2 digits (even number of digits). \n",
    "345 contains 3 digits (odd number of digits). \n",
    "2 contains 1 digit (odd number of digits). \n",
    "6 contains 1 digit (odd number of digits). \n",
    "7896 contains 4 digits (even number of digits). \n",
    "Therefore only 12 and 7896 contain an even number of digits.\n",
    "\"\"\"\n",
    "\n",
    "\n",
    "\n",
    "class Solution:\n",
    "    def findNumbers(self, nums: List[int]) -> int:\n",
    "        count = 0\n",
    "        for num in nums:\n",
    "            if len(str(num)) % 2 == 0:\n",
    "                count += 1\n",
    "        return count\n",
    "            "
   ]
  },
  {
   "cell_type": "markdown",
   "metadata": {},
   "source": [
    "# Squares of a Sorted Array"
   ]
  },
  {
   "cell_type": "code",
   "execution_count": 15,
   "metadata": {
    "collapsed": true
   },
   "outputs": [
    {
     "ename": "NameError",
     "evalue": "name 'List' is not defined",
     "output_type": "error",
     "traceback": [
      "\u001b[0;31m---------------------------------------------------------------------------\u001b[0m",
      "\u001b[0;31mNameError\u001b[0m                                 Traceback (most recent call last)",
      "\u001b[0;32m<ipython-input-15-f1639b0dcd47>\u001b[0m in \u001b[0;36m<module>\u001b[0;34m\u001b[0m\n\u001b[0;32m----> 1\u001b[0;31m \u001b[0;32mclass\u001b[0m \u001b[0mSolution\u001b[0m\u001b[0;34m:\u001b[0m\u001b[0;34m\u001b[0m\u001b[0;34m\u001b[0m\u001b[0m\n\u001b[0m\u001b[1;32m      2\u001b[0m     \u001b[0;32mdef\u001b[0m \u001b[0msortedSquares\u001b[0m\u001b[0;34m(\u001b[0m\u001b[0mself\u001b[0m\u001b[0;34m,\u001b[0m \u001b[0mnums\u001b[0m\u001b[0;34m:\u001b[0m \u001b[0mList\u001b[0m\u001b[0;34m[\u001b[0m\u001b[0mint\u001b[0m\u001b[0;34m]\u001b[0m\u001b[0;34m)\u001b[0m \u001b[0;34m->\u001b[0m \u001b[0mList\u001b[0m\u001b[0;34m[\u001b[0m\u001b[0mint\u001b[0m\u001b[0;34m]\u001b[0m\u001b[0;34m:\u001b[0m\u001b[0;34m\u001b[0m\u001b[0;34m\u001b[0m\u001b[0m\n\u001b[1;32m      3\u001b[0m \u001b[0;34m\u001b[0m\u001b[0m\n\u001b[1;32m      4\u001b[0m         \u001b[0msorted_squares\u001b[0m \u001b[0;34m=\u001b[0m \u001b[0;34m[\u001b[0m\u001b[0;34m]\u001b[0m\u001b[0;34m\u001b[0m\u001b[0;34m\u001b[0m\u001b[0m\n\u001b[1;32m      5\u001b[0m \u001b[0;34m\u001b[0m\u001b[0m\n",
      "\u001b[0;32m<ipython-input-15-f1639b0dcd47>\u001b[0m in \u001b[0;36mSolution\u001b[0;34m()\u001b[0m\n\u001b[1;32m      1\u001b[0m \u001b[0;32mclass\u001b[0m \u001b[0mSolution\u001b[0m\u001b[0;34m:\u001b[0m\u001b[0;34m\u001b[0m\u001b[0;34m\u001b[0m\u001b[0m\n\u001b[0;32m----> 2\u001b[0;31m     \u001b[0;32mdef\u001b[0m \u001b[0msortedSquares\u001b[0m\u001b[0;34m(\u001b[0m\u001b[0mself\u001b[0m\u001b[0;34m,\u001b[0m \u001b[0mnums\u001b[0m\u001b[0;34m:\u001b[0m \u001b[0mList\u001b[0m\u001b[0;34m[\u001b[0m\u001b[0mint\u001b[0m\u001b[0;34m]\u001b[0m\u001b[0;34m)\u001b[0m \u001b[0;34m->\u001b[0m \u001b[0mList\u001b[0m\u001b[0;34m[\u001b[0m\u001b[0mint\u001b[0m\u001b[0;34m]\u001b[0m\u001b[0;34m:\u001b[0m\u001b[0;34m\u001b[0m\u001b[0;34m\u001b[0m\u001b[0m\n\u001b[0m\u001b[1;32m      3\u001b[0m \u001b[0;34m\u001b[0m\u001b[0m\n\u001b[1;32m      4\u001b[0m         \u001b[0msorted_squares\u001b[0m \u001b[0;34m=\u001b[0m \u001b[0;34m[\u001b[0m\u001b[0;34m]\u001b[0m\u001b[0;34m\u001b[0m\u001b[0;34m\u001b[0m\u001b[0m\n\u001b[1;32m      5\u001b[0m \u001b[0;34m\u001b[0m\u001b[0m\n",
      "\u001b[0;31mNameError\u001b[0m: name 'List' is not defined"
     ]
    }
   ],
   "source": [
    "\"\"\"\n",
    "Input: nums = [-4,-1,0,3,10]\n",
    "Output: [0,1,9,16,100]\n",
    "Explanation: After squaring, the array becomes [16,1,0,9,100].\n",
    "After sorting, it becomes [0,1,9,16,100].\n",
    "\"\"\"\n",
    "\n",
    "class Solution:\n",
    "    def sortedSquares(self, nums: List[int]) -> List[int]:\n",
    "        \n",
    "        sorted_squares = []\n",
    "        \n",
    "        while len(nums) > 1:\n",
    "            n1 = nums[0]\n",
    "            n2 = nums[-1]\n",
    "            \n",
    "            if n1*n1 > n2*n2:\n",
    "                sorted_squares.append(n1*n1)\n",
    "                nums.pop(0)\n",
    "            else:\n",
    "                sorted_squares.append(n2*n2)\n",
    "                nums.pop(-1)\n",
    "                \n",
    "        sorted_squares.append(nums[0]*nums[0])\n",
    "        \n",
    "        return sorted_squares[::-1]\n",
    "        \n",
    "        \n",
    "class Solution:\n",
    "    def sortedSquares(self, nums: List[int]) -> List[int]:\n",
    "        \n",
    "        combined = []\n",
    "        \n",
    "        while len(nums) > 1:\n",
    "            n1 = abs(nums[0])\n",
    "            n2 = abs(nums[-1])\n",
    "            \n",
    "            if n1 > n2:\n",
    "                combined.append(n1)\n",
    "                nums.pop(0)\n",
    "            else:\n",
    "                combined.append(n2)\n",
    "                nums.pop(-1)\n",
    "                \n",
    "        combined.append(nums[0])\n",
    "        \n",
    "        asc_combined = combined[::-1]\n",
    "        \n",
    "        return [x*x for x in asc_combined]"
   ]
  },
  {
   "cell_type": "markdown",
   "metadata": {},
   "source": [
    "# Duplicate Zeros"
   ]
  },
  {
   "cell_type": "code",
   "execution_count": 14,
   "metadata": {},
   "outputs": [
    {
     "name": "stdout",
     "output_type": "stream",
     "text": [
      "[1, 0, 0, 2, 3, 0, 0, 4]\n"
     ]
    }
   ],
   "source": [
    "\"\"\"\n",
    "Input: [1,0,2,3,0,4,5,0]\n",
    "Output: null\n",
    "Explanation: After calling your function, the input array is modified to: [1,0,0,2,3,0,0,4]\n",
    "\"\"\"\n",
    "\n",
    "# runtime: 256 ms\n",
    "def duplicateZeros(arr) -> None:\n",
    "    \"\"\"\n",
    "    Do not return anything, modify arr in-place instead.\n",
    "    \"\"\"\n",
    "    n = len(arr)\n",
    "    skip_index = False\n",
    "\n",
    "    for i in range(n):\n",
    "        if skip_index == True:\n",
    "            skip_index = False\n",
    "            continue\n",
    "        else:\n",
    "            if arr[i] == 0 and i != n-1:\n",
    "                temp = arr[i+1:]\n",
    "                arr[i+1] = 0\n",
    "                arr[i+2:] = temp[:n-i-2]\n",
    "                skip_index = True\n",
    "\n",
    "\n",
    "# runtime: 1700+ ms\n",
    "def duplicateZeros(arr) -> None:\n",
    "# def duplicateZeros(self, arr: List[int]) -> None:\n",
    "        \"\"\"\n",
    "        Do not return anything, modify arr in-place instead.\n",
    "        \"\"\"\n",
    "        n = len(arr)\n",
    "        skip_index = False\n",
    "        \n",
    "        for i in range(n):\n",
    "            if skip_index == True:\n",
    "                skip_index = False\n",
    "                continue\n",
    "            else:\n",
    "                if arr[i] == 0:\n",
    "                    for j in range(n-i-1):\n",
    "                        arr[n-j-1] = arr[n-j-2]\n",
    "                    skip_index = True\n",
    "\n",
    "                    \n",
    "arr = [1,0,2,3,0,4,5,0]\n",
    "arr = [0,4,1,0,0,8,0,0,3]\n",
    "arr = [0,0,0,0,0,0,0]\n",
    "duplicateZeros(arr)\n",
    "print(arr)"
   ]
  },
  {
   "cell_type": "markdown",
   "metadata": {},
   "source": [
    "# Merge Sorted Array\n"
   ]
  },
  {
   "cell_type": "code",
   "execution_count": 21,
   "metadata": {},
   "outputs": [
    {
     "name": "stdout",
     "output_type": "stream",
     "text": [
      "[1, 2, 3, 4, 5, 6]\n"
     ]
    }
   ],
   "source": [
    "\"\"\"\n",
    "Input: nums1 = [1,2,3,0,0,0], m = 3, nums2 = [2,5,6], n = 3\n",
    "Output: [1,2,2,3,5,6]\n",
    "\"\"\"\n",
    "\n",
    "# runtims: 40ms\n",
    "def merge(nums1, m, nums2, n) -> None:\n",
    "    \"\"\"\n",
    "    Do not return anything, modify nums1 in-place instead.\n",
    "    \"\"\"\n",
    "    num = None\n",
    "    counter = n\n",
    "    if counter != 0:\n",
    "        num = nums2[0]\n",
    "\n",
    "    if num is not None:\n",
    "        for i in range(m+n):\n",
    "            if nums1[i] > num:\n",
    "                nums1[:m+n] = nums1[:i] + [num] + nums1[i:m+n-1]\n",
    "                counter -= 1\n",
    "                nums2.pop(0)\n",
    "\n",
    "                if counter != 0:                 \n",
    "                    num = nums2[0]\n",
    "                else:\n",
    "                    break\n",
    "                    \n",
    "    if counter != 0:\n",
    "        nums1[:] = nums1[:m+n-counter] + nums2\n",
    "\n",
    "nums1 = [1,2,3,0,0,0] \n",
    "m = 3\n",
    "nums2 = [2,5,6]\n",
    "n = 3\n",
    "\n",
    "nums1 = [1,2,3,0,0,0]\n",
    "m = 3\n",
    "nums2 = [4,5,6] \n",
    "n = 3\n",
    "\n",
    "nums1 = [4,5,0]\n",
    "m = 2\n",
    "nums2 = [2]\n",
    "n = 1\n",
    "\n",
    "nums1 = [4,0,0,0,0,0]\n",
    "m = 1\n",
    "nums2 = [1,2,3,5,6]\n",
    "n = 5\n",
    "\n",
    "\n",
    "merge(nums1, m, nums2, n)\n",
    "print(nums1)"
   ]
  },
  {
   "cell_type": "markdown",
   "metadata": {},
   "source": [
    "# Remove Element"
   ]
  },
  {
   "cell_type": "code",
   "execution_count": 40,
   "metadata": {},
   "outputs": [
    {
     "name": "stdout",
     "output_type": "stream",
     "text": [
      "[2, 2]\n"
     ]
    }
   ],
   "source": [
    "\"\"\"\n",
    "Input: nums = [3,2,2,3], val = 3\n",
    "Output: 2, nums = [2,2]\n",
    "Explanation: Your function should return length = 2, with the first two elements of nums being 2.\n",
    "It doesn't matter what you leave beyond the returned length. \n",
    "For example if you return 2 with nums = [2,2,3,3] or nums = [2,2,0,0], your answer will be accepted.\n",
    "\"\"\"\n",
    "\n",
    "# runtime: 36ms\n",
    "def removeElement(nums, val: int) -> int:\n",
    "    \n",
    "    counter = 0\n",
    "    \n",
    "    for i in range(len(nums)):\n",
    "        if nums[i] == val:\n",
    "            counter += 1\n",
    "            nums[:] = [val] + nums[:i] + nums[i+1:]\n",
    "            \n",
    "    nums[:] = nums[counter:]\n",
    "\n",
    "# runtime: 28ms\n",
    "def removeElement(nums, val: int) -> int:\n",
    "\n",
    "    n = len(nums)\n",
    "    counter = 0\n",
    "\n",
    "    for i in range(n):\n",
    "        if nums[i] == val:\n",
    "            counter += 1\n",
    "            nums[:] = [val] + nums[:i] + nums[i+1:]\n",
    "\n",
    "    nums[:] = nums[counter:]\n",
    "\n",
    "def removeElement(nums, val: int) -> int:\n",
    "    \n",
    "    counter = 0\n",
    "    \n",
    "    for i in range(len(nums)):\n",
    "        if nums[i] == val:\n",
    "            counter += 1\n",
    "            nums[:] = [val] + nums[:i] + nums[i+1:]\n",
    "    \n",
    "    while counter != 0:\n",
    "        nums.pop(0)\n",
    "        counter -= 1\n",
    "    \n",
    "        \n",
    "nums = [3,2,2,3]\n",
    "val = 3\n",
    "\n",
    "# nums = [0,1,2,2,3,0,4,2]\n",
    "# val = 2\n",
    "\n",
    "removeElement(nums, val)\n",
    "print(nums)"
   ]
  },
  {
   "cell_type": "markdown",
   "metadata": {},
   "source": [
    "# Remove Duplicates from Sorted Array\n"
   ]
  },
  {
   "cell_type": "code",
   "execution_count": 76,
   "metadata": {},
   "outputs": [
    {
     "name": "stdout",
     "output_type": "stream",
     "text": [
      "[-1, 0, 3]\n"
     ]
    }
   ],
   "source": [
    "\"\"\"\n",
    "Input: nums = [1,1,2]\n",
    "Output: 2, nums = [1,2]\n",
    "Explanation: Your function should return length = 2, with the first two elements of nums being 1 and 2 \n",
    "respectively. It doesn't matter what you leave beyond the returned length.\n",
    "\"\"\"\n",
    "\n",
    "# runtime: 76ms\n",
    "\n",
    "def removeDuplicates(nums) -> int:\n",
    "    nums[:] = sorted(list(set(nums)))        \n",
    "            \n",
    "nums = [1,1,2]\n",
    "nums = [-1,0,0,0,0,3,3]\n",
    "removeDuplicates(nums)\n",
    "print(nums)"
   ]
  },
  {
   "cell_type": "markdown",
   "metadata": {},
   "source": [
    "# Check If N and Its Double Exist"
   ]
  },
  {
   "cell_type": "code",
   "execution_count": 91,
   "metadata": {},
   "outputs": [
    {
     "data": {
      "text/plain": [
       "False"
      ]
     },
     "execution_count": 91,
     "metadata": {},
     "output_type": "execute_result"
    }
   ],
   "source": [
    "\"\"\"\n",
    "Input: arr = [10,2,5,3]\n",
    "Output: true\n",
    "Explanation: N = 10 is the double of M = 5,that is, 10 = 2 * 5.\n",
    "\"\"\"\n",
    "\n",
    "# runtime: 64ms\n",
    "class Solution:\n",
    "    def checkIfExist(self, arr: List[int]) -> bool:\n",
    "        n = len(arr)\n",
    "        for i in range(n):\n",
    "            N = arr[i]\n",
    "            check_arr = arr[:i] + arr[i+1:]\n",
    "            for a in check_arr:\n",
    "                if 2*a == N:\n",
    "                    return True\n",
    "        return False        \n",
    "\n",
    "# runtime: 52ms\n",
    "class Solution:\n",
    "    def checkIfExist(self, arr: List[int]) -> bool:\n",
    "        if arr.count(0) > 1:\n",
    "            return True\n",
    "\n",
    "        possible_N = [i for i in arr if i%2 == 0]\n",
    "\n",
    "        for i in possible_N:\n",
    "            if i//2 in arr and i != i//2:\n",
    "                return True\n",
    "        return False        \n",
    "\n",
    "    \n",
    "\n",
    "arr = [7,1,14,11]\n",
    "arr = [-2,0,10,-19,4,6,-8]\n",
    "# arr = [0,0]\n",
    "checkIfExist(arr)"
   ]
  },
  {
   "cell_type": "markdown",
   "metadata": {},
   "source": [
    "# Valid Mountain Array"
   ]
  },
  {
   "cell_type": "code",
   "execution_count": 132,
   "metadata": {},
   "outputs": [
    {
     "name": "stdout",
     "output_type": "stream",
     "text": [
      "diff, flag: -2 None\n",
      "diff, flag: 2 None\n",
      "True\n"
     ]
    }
   ],
   "source": [
    "\"\"\"\n",
    "Input: arr = [3,5,5]\n",
    "Output: false\n",
    "\"\"\"\n",
    "\n",
    "# runtime: 204ms / 50%\n",
    "def validMountainArray(arr) -> bool:\n",
    "\n",
    "    n = len(arr)    \n",
    "    if n < 3:\n",
    "        return False\n",
    "\n",
    "    peak = max(arr)\n",
    "\n",
    "    if arr.count(peak) > 1:\n",
    "        return False\n",
    "\n",
    "    peak_index = arr.index(peak)\n",
    "    increase = arr[:peak_index+1]\n",
    "    decrease = arr[peak_index:]\n",
    "\n",
    "    l_inc = len(increase)\n",
    "    l_dec = len(decrease)\n",
    "\n",
    "    if l_inc == 1 or l_dec == 1:\n",
    "        return False\n",
    "\n",
    "    for i in range(l_inc-1):\n",
    "        if increase[i+1] <= increase[i]:\n",
    "            return False\n",
    "    for i in range(l_dec-1):\n",
    "        if decrease[i+1] >= decrease[i]:\n",
    "            return False\n",
    "\n",
    "    return True     \n",
    "    \n",
    "    \n",
    "def validMountainArray(arr) -> bool:\n",
    "\n",
    "    n = len(arr)\n",
    "    if n < 3:\n",
    "        return False\n",
    "    \n",
    "    flag = None\n",
    "    \n",
    "    for i in range(n-1):\n",
    "        diff = arr[i+1] - arr[i]\n",
    "        print(\"diff, flag:\", diff, flag)\n",
    "        if diff == 0:\n",
    "            return False\n",
    "        \n",
    "        if diff > 0 and flag is None:\n",
    "            flag = True\n",
    "        elif diff < 0 and flag is True:\n",
    "            flag = False\n",
    "            \n",
    "        if diff > 0 and flag is False:\n",
    "            return False\n",
    "        elif diff < 0 and flag is True:\n",
    "            return False\n",
    "        \n",
    "    if flag is None:\n",
    "        return False\n",
    "    return True\n",
    "            \n",
    "        \n",
    "            \n",
    "    \n",
    "    \n",
    "    \n",
    "arr = [2,1]\n",
    "arr = [0,3,2,1]\n",
    "arr = [3,5,5]\n",
    "arr = [6,5,4,3]\n",
    "arr = [0,1,2,3,4,5,6,7,8,9]\n",
    "arr = [1,1,1,1,1,1,1,2,1]\n",
    "arr = [1,2,3,2,2,1]\n",
    "arr = [2,0,2]\n",
    "\n",
    "print(validMountainArray(arr))\n",
    "\n",
    "        "
   ]
  },
  {
   "cell_type": "code",
   "execution_count": null,
   "metadata": {},
   "outputs": [],
   "source": []
  }
 ],
 "metadata": {
  "kernelspec": {
   "display_name": "Python 3",
   "language": "python",
   "name": "python3"
  },
  "language_info": {
   "codemirror_mode": {
    "name": "ipython",
    "version": 3
   },
   "file_extension": ".py",
   "mimetype": "text/x-python",
   "name": "python",
   "nbconvert_exporter": "python",
   "pygments_lexer": "ipython3",
   "version": "3.6.9"
  }
 },
 "nbformat": 4,
 "nbformat_minor": 2
}
