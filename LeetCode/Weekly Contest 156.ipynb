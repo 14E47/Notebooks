{
 "cells": [
  {
   "cell_type": "markdown",
   "metadata": {},
   "source": [
    "# Q1 - Unique Number of Occurrences"
   ]
  },
  {
   "cell_type": "code",
   "execution_count": 14,
   "metadata": {},
   "outputs": [
    {
     "name": "stdout",
     "output_type": "stream",
     "text": [
      "[1, 2, 4, 8] \n",
      " [1, 2, 4, 8]\n",
      "True\n"
     ]
    }
   ],
   "source": [
    "def uniqueOccurrences(arr):\n",
    "    dic = {}\n",
    "    for i in arr:\n",
    "        if i not in list(dic):\n",
    "            dic[i] = 1\n",
    "        else:\n",
    "            dic[i] += 1\n",
    "            \n",
    "    l1 = sorted(list(dic.values()))\n",
    "    l2 = sorted(list(set(l1)))\n",
    "    print(l1, '\\n', l2)\n",
    "    if l1 == l2:\n",
    "        return True\n",
    "    else:\n",
    "        return False\n",
    "    \n",
    "arr = [1,2,2,1,1,3]\n",
    "arr = [1,2]\n",
    "arr = [-3,0,1,-3,1,1,1,-3,10,0]\n",
    "arr = [-17,19,-17,-17,19,2,19,-17,19,19,2,19,0,19,19]\n",
    "r = uniqueOccurrences(arr)\n",
    "print(r)\n"
   ]
  },
  {
   "cell_type": "markdown",
   "metadata": {},
   "source": [
    "# Q2 - Get Equal Substrings Within Budget"
   ]
  },
  {
   "cell_type": "code",
   "execution_count": 84,
   "metadata": {},
   "outputs": [
    {
     "name": "stdout",
     "output_type": "stream",
     "text": [
      "4\n"
     ]
    }
   ],
   "source": [
    "\n",
    "def equalSubstring(s, t, maxCost):\n",
    "    n = len(s)\n",
    "    costs = []\n",
    "    for i in range(n):\n",
    "        if s[i] == t[i]:\n",
    "            costs.append(0)\n",
    "        else:\n",
    "            cost = abs(ord(s[i]) - ord(t[i]))\n",
    "            costs.append(cost)\n",
    "            \n",
    "    max_length = checksum(costs, len(costs), maxCost)\n",
    "#     max_length = 0\n",
    "#     print('costs', costs)\n",
    "#     for j in range(len(costs)):\n",
    "#         length = 0\n",
    "#         sigma = 0\n",
    "#         for k in costs[j:]:\n",
    "#             if sigma + k <= maxCost:\n",
    "#                 sigma += k\n",
    "#                 length += 1\n",
    "#             else:\n",
    "#                 break\n",
    "#         if length > max_length:\n",
    "#             max_length = length\n",
    "            \n",
    "    return max_length\n",
    "\n",
    "def checksum(arr, n, k): \n",
    "    _sum = 0\n",
    "    cnt = 0\n",
    "    maxcnt = 0\n",
    "\n",
    "    for i in range(n): \n",
    "\n",
    "        if ((_sum + arr[i]) <= k): \n",
    "            _sum += arr[i] \n",
    "            cnt += 1\n",
    "        elif(sum != 0): \n",
    "            _sum = _sum - arr[i - cnt] + arr[i] \n",
    "\n",
    "        maxcnt = max(cnt, maxcnt) \n",
    "\n",
    "    return maxcnt \n",
    "\n",
    "        \n",
    "s = \"abcd\"\n",
    "t = \"bcdf\"\n",
    "cost = 3\n",
    "\n",
    "s = \"abcd\"\n",
    "t = \"cdef\"\n",
    "cost = 3\n",
    "\n",
    "s = \"abcd\"\n",
    "t = \"acde\"\n",
    "cost = 0 #1\n",
    "\n",
    "s = \"krrgw\"\n",
    "t = \"zjxss\"\n",
    "cost = 19   #2\n",
    "\n",
    "s = \"pxezla\"\n",
    "t = \"loewbi\"\n",
    "cost = 25       #4\n",
    "\n",
    "print(equalSubstring(s,t,cost))"
   ]
  },
  {
   "cell_type": "code",
   "execution_count": null,
   "metadata": {},
   "outputs": [],
   "source": [
    "# # Python3 program to find longest subarray \n",
    "# # with sum of elements at-least k. \n",
    "\n",
    "# # function to find the length of largest \n",
    "# # subarray having sum atmost k. \n",
    "# def atMostSum(arr, n, k): \n",
    "# \t_sum = 0\n",
    "# \tcnt = 0\n",
    "# \tmaxcnt = 0\n",
    "\t\n",
    "# \tfor i in range(n): \n",
    "\n",
    "# \t\t# If adding current element doesn't \n",
    "# \t\t# Cross limit add it to current window \n",
    "# \t\tif ((_sum + arr[i]) <= k): \n",
    "# \t\t\t_sum += arr[i] \n",
    "# \t\t\tcnt += 1\n",
    "\t\t\n",
    "# \t\t# Else, remove first element of current \n",
    "# \t\t# window and add the current element \n",
    "# \t\telif(sum != 0): \n",
    "# \t\t\t_sum = _sum - arr[i - cnt] + arr[i] \n",
    "\t\t\n",
    "# \t\t# keep track of max length. \n",
    "# \t\tmaxcnt = max(cnt, maxcnt) \n",
    "\n",
    "# \treturn maxcnt \n",
    "\t\n",
    "# # Driver function \n",
    "# arr = [1, 2, 1, 0, 1, 1, 0] \n",
    "# n = len(arr) \n",
    "# k = 4\n",
    "# print(atMostSum(arr, n, k)) \n",
    "\n",
    "# # This code is contributed by \"Abhishek Sharma 44\" \n"
   ]
  },
  {
   "cell_type": "markdown",
   "metadata": {},
   "source": [
    "# Q3 -  Remove All Adjacent Duplicates in String II"
   ]
  },
  {
   "cell_type": "code",
   "execution_count": 92,
   "metadata": {},
   "outputs": [
    {
     "name": "stdout",
     "output_type": "stream",
     "text": [
      "ps\n"
     ]
    }
   ],
   "source": [
    "\n",
    "def removeDuplicates(s: str, k: int) -> str:\n",
    "    unique_chars = set(s)\n",
    "    duplicates = True\n",
    "    while duplicates:\n",
    "        dupes = 0\n",
    "        for i in unique_chars:\n",
    "            index = s.find(i*k)\n",
    "            if index >= 0:\n",
    "                dupes += 1\n",
    "                s = s[:index] + s[index+k:]\n",
    "        if dupes == 0:\n",
    "            duplicates = False\n",
    "            \n",
    "    return s\n",
    "            \n",
    "s = \"abcd\"\n",
    "k = 2\n",
    "\n",
    "s = \"deeedbbcccbdaa\"\n",
    "k = 3\n",
    "\n",
    "s = \"pbbcggttciiippooaais\"\n",
    "k = 2\n",
    "\n",
    "print(removeDuplicates(s,k))\n",
    "        "
   ]
  },
  {
   "cell_type": "code",
   "execution_count": null,
   "metadata": {},
   "outputs": [],
   "source": []
  }
 ],
 "metadata": {
  "kernelspec": {
   "display_name": "Python 3",
   "language": "python",
   "name": "python3"
  },
  "language_info": {
   "codemirror_mode": {
    "name": "ipython",
    "version": 3
   },
   "file_extension": ".py",
   "mimetype": "text/x-python",
   "name": "python",
   "nbconvert_exporter": "python",
   "pygments_lexer": "ipython3",
   "version": "3.6.8"
  }
 },
 "nbformat": 4,
 "nbformat_minor": 2
}
